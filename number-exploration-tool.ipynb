{
 "cells": [
  {
   "cell_type": "code",
   "execution_count": 12,
   "metadata": {},
   "outputs": [
    {
     "name": "stdout",
     "output_type": "stream",
     "text": [
      "My Name is Abdul Saboor\n",
      "My first favorite number is 10.\n",
      "My Second favorite number is 11.\n",
      "My third favorite number is 12.\n"
     ]
    }
   ],
   "source": [
    "user_name = input(\"Enter your name\")\n",
    "first_number = int(input(\"Enter first favorite number\"))\n",
    "second_number = int(input(\"Enter second favorite number\"))\n",
    "third_number = int(input(\"Enter first favorite number\"))\n",
    "print(f'My Name is {user_name}')\n",
    "print(f'My first favorite number is {first_number}.')\n",
    "print(f'My Second favorite number is {second_number}.')\n",
    "print(f'My third favorite number is {third_number}.')"
   ]
  },
  {
   "cell_type": "code",
   "execution_count": 11,
   "metadata": {},
   "outputs": [
    {
     "name": "stdout",
     "output_type": "stream",
     "text": [
      "Abdul Saboor! Today, we are creating number exploration tool.\n"
     ]
    }
   ],
   "source": [
    "print(f'{user_name}! Today, we are creating number exploration tool.')"
   ]
  },
  {
   "cell_type": "code",
   "execution_count": 27,
   "metadata": {},
   "outputs": [
    {
     "name": "stdout",
     "output_type": "stream",
     "text": [
      "favorite_numbers: [10, 11, 12]\n"
     ]
    }
   ],
   "source": [
    "numbers=[]\n",
    "for i in range(3):\n",
    "    num = int(input(\"enter the number:\"))\n",
    "    numbers.append(num)\n",
    "print(\"favorite_numbers:\", numbers)"
   ]
  },
  {
   "cell_type": "code",
   "execution_count": 41,
   "metadata": {},
   "outputs": [
    {
     "name": "stdout",
     "output_type": "stream",
     "text": [
      "10 is even.\n",
      "11 is odd.\n",
      "12 is even.\n"
     ]
    }
   ],
   "source": [
    "favorite_numbers = [10, 11, 12]\n",
    "for favorite_number in favorite_numbers:\n",
    "    if favorite_number % 2 == 0:\n",
    "        print(f'{favorite_number} is even.')\n",
    "    else:\n",
    "        print(f'{favorite_number} is odd.')"
   ]
  },
  {
   "cell_type": "code",
   "execution_count": 70,
   "metadata": {},
   "outputs": [
    {
     "name": "stdout",
     "output_type": "stream",
     "text": [
      "The number 10 is a even number.\n",
      "The number 11 is an odd number.\n",
      "The number 12 is a even number.\n"
     ]
    }
   ],
   "source": [
    "numbers = (10, 11, 12)\n",
    "for number in numbers:\n",
    "    if number % 2 == 0:\n",
    "        print(f\"The number {number} is a even number.\")\n",
    "    else:\n",
    "        print(f\"The number {number} is an odd number.\")"
   ]
  },
  {
   "cell_type": "code",
   "execution_count": 97,
   "metadata": {},
   "outputs": [
    {
     "name": "stdout",
     "output_type": "stream",
     "text": [
      "The square of 10 is (10, 100)\n",
      "The square of 11 is (11, 121)\n",
      "The square of 12 is (12, 144)\n"
     ]
    }
   ],
   "source": [
    "number = [10, 11, 12]\n",
    "for num in number:\n",
    "    square = num**2\n",
    "    number_tuple = (num, square)\n",
    "    print(f'The square of {num} is {number_tuple}')"
   ]
  },
  {
   "cell_type": "code",
   "execution_count": 96,
   "metadata": {},
   "outputs": [
    {
     "name": "stdout",
     "output_type": "stream",
     "text": [
      "Amazing! The sum of favorite number is : 33\n"
     ]
    }
   ],
   "source": [
    "sum = first_number + second_number + third_number\n",
    "print(f'Amazing! The sum of favorite number is : {sum}')"
   ]
  },
  {
   "cell_type": "code",
   "execution_count": 7,
   "metadata": {},
   "outputs": [
    {
     "name": "stdout",
     "output_type": "stream",
     "text": [
      "Wow! 33 is a prime number.\n"
     ]
    }
   ],
   "source": [
    "sum = 33\n",
    "# Negative numbers, 0 and 1 are not primes\n",
    "if sum > 1:\n",
    "  \n",
    "    # Iterate from 2 to n // 2\n",
    "    for i in range(2, (sum//2)+1):\n",
    "      \n",
    "        # If num is divisible by any number between\n",
    "        # 2 and n / 2, it is not prime\n",
    "        if (sum % i) == 0:\n",
    "            print(f'Wow! {sum} is a prime number.')\n",
    "            break\n",
    "    else:\n",
    "        print(sum, \"is not a prime number.\")"
   ]
  }
 ],
 "metadata": {
  "kernelspec": {
   "display_name": "Python 3",
   "language": "python",
   "name": "python3"
  },
  "language_info": {
   "codemirror_mode": {
    "name": "ipython",
    "version": 3
   },
   "file_extension": ".py",
   "mimetype": "text/x-python",
   "name": "python",
   "nbconvert_exporter": "python",
   "pygments_lexer": "ipython3",
   "version": "3.12.4"
  }
 },
 "nbformat": 4,
 "nbformat_minor": 2
}
